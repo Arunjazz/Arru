{
  "nbformat": 4,
  "nbformat_minor": 0,
  "metadata": {
    "colab": {
      "name": "IMPORTANT Prog.ipynb",
      "provenance": [],
      "authorship_tag": "ABX9TyNNdM0nO0vHqSQjX8VDI6rC",
      "include_colab_link": true
    },
    "kernelspec": {
      "name": "python3",
      "display_name": "Python 3"
    },
    "language_info": {
      "name": "python"
    }
  },
  "cells": [
    {
      "cell_type": "markdown",
      "metadata": {
        "id": "view-in-github",
        "colab_type": "text"
      },
      "source": [
        "<a href=\"https://colab.research.google.com/github/Arunjazz/Arru/blob/main/IMPORTANT_Prog.ipynb\" target=\"_parent\"><img src=\"https://colab.research.google.com/assets/colab-badge.svg\" alt=\"Open In Colab\"/></a>"
      ]
    },
    {
      "cell_type": "code",
      "execution_count": null,
      "metadata": {
        "colab": {
          "base_uri": "https://localhost:8080/"
        },
        "id": "4E1Iin0aIVwF",
        "outputId": "078ba94c-c15e-4b14-91fb-0d4421d37902"
      },
      "outputs": [
        {
          "output_type": "stream",
          "name": "stdout",
          "text": [
            "* * * * * * * * * * \n",
            "* * * * * * * * * \n",
            "* * * * * * * * \n",
            "* * * * * * * \n",
            "* * * * * * \n",
            "* * * * * \n",
            "* * * * \n",
            "* * * \n",
            "* * \n",
            "* \n"
          ]
        }
      ],
      "source": [
        "for i in range(10):\n",
        "    for j in range(10, i, -1):\n",
        "        print(\"*\", end=\" \")\n",
        "    print()\n"
      ]
    },
    {
      "cell_type": "code",
      "source": [
        "for i in range(10):\n",
        "    for j in range(i+1):\n",
        "        print(\"*\", end=\" \")\n",
        "    print()"
      ],
      "metadata": {
        "colab": {
          "base_uri": "https://localhost:8080/"
        },
        "id": "wuu3Qt8MIY8s",
        "outputId": "f7e01143-39ec-41a1-bd97-e01b8abc90ad"
      },
      "execution_count": null,
      "outputs": [
        {
          "output_type": "stream",
          "name": "stdout",
          "text": [
            "* \n",
            "* * \n",
            "* * * \n",
            "* * * * \n",
            "* * * * * \n",
            "* * * * * * \n",
            "* * * * * * * \n",
            "* * * * * * * * \n",
            "* * * * * * * * * \n",
            "* * * * * * * * * * \n"
          ]
        }
      ]
    },
    {
      "cell_type": "code",
      "source": [
        "\n",
        "for i in range(10):\n",
        "    for j in range(10, i, -2):\n",
        "        print(\"*\", end=\" \")\n",
        "    print()"
      ],
      "metadata": {
        "colab": {
          "base_uri": "https://localhost:8080/"
        },
        "id": "iQkDA7mqIa6V",
        "outputId": "bf7a40b8-291e-457f-9310-65939e0f4f40"
      },
      "execution_count": null,
      "outputs": [
        {
          "output_type": "stream",
          "name": "stdout",
          "text": [
            "* * * * * \n",
            "* * * * * \n",
            "* * * * \n",
            "* * * * \n",
            "* * * \n",
            "* * * \n",
            "* * \n",
            "* * \n",
            "* \n",
            "* \n"
          ]
        }
      ]
    },
    {
      "cell_type": "markdown",
      "source": [
        "This is important because it shows the count of repiting string in the given string "
      ],
      "metadata": {
        "id": "XLFDTutoIoM9"
      }
    },
    {
      "cell_type": "code",
      "source": [
        "string = \"ABCDCDC\"\n",
        "srr = 'CDC'\n",
        "n_times = len(string)\n",
        "\n",
        "for i in range(len(string)):\n",
        "    if string.count(srr) == n_times:\n",
        "        print(srr+\" exists \" + str(n_times) + \" times in \"+string)\n",
        "        break\n",
        "    else:\n",
        "        n_times -= 1\n",
        "        \n",
        "res = {i: string.count(i) for i in set(string)}\n",
        "print(res)\n",
        "for i in res:\n",
        "    print(i, string.count(i))"
      ],
      "metadata": {
        "colab": {
          "base_uri": "https://localhost:8080/"
        },
        "id": "_5LqbOJlIchl",
        "outputId": "20f13755-cb39-4c9e-e9cc-386418cba323"
      },
      "execution_count": null,
      "outputs": [
        {
          "output_type": "stream",
          "name": "stdout",
          "text": [
            "CDC exists 1 times in ABCDCDC\n",
            "{'C': 3, 'D': 2, 'B': 1, 'A': 1}\n",
            "C 3\n",
            "D 2\n",
            "B 1\n",
            "A 1\n"
          ]
        }
      ]
    },
    {
      "cell_type": "markdown",
      "source": [
        "Counter() tells us the no. of characters in a string "
      ],
      "metadata": {
        "id": "eZ8TQkjIKIDS"
      }
    },
    {
      "cell_type": "code",
      "source": [
        "from collections import Counter\n",
        "string = \"ABCDCDC\"\n",
        "my_c = Counter(string)\n",
        "print(my_c)\n",
        "print(my_c.items())\n",
        "# print(my_c.Value())\n",
        "print(my_c.values())\n",
        "print(my_c.most_common(1)) # 1 --> first most common , 2 --> two most common \n",
        "print(my_c.most_common(2))\n",
        "# for accessing element \n",
        "print(my_c.most_common(1)[0][0])"
      ],
      "metadata": {
        "colab": {
          "base_uri": "https://localhost:8080/"
        },
        "id": "JY56yI3jJFhr",
        "outputId": "36631a75-ac78-4e45-b694-0e13143326ba"
      },
      "execution_count": null,
      "outputs": [
        {
          "output_type": "stream",
          "name": "stdout",
          "text": [
            "Counter({'C': 3, 'D': 2, 'A': 1, 'B': 1})\n",
            "dict_items([('A', 1), ('B', 1), ('C', 3), ('D', 2)])\n",
            "dict_values([1, 1, 3, 2])\n",
            "[('C', 3)]\n",
            "[('C', 3), ('D', 2)]\n",
            "C\n"
          ]
        }
      ]
    },
    {
      "cell_type": "code",
      "source": [
        ""
      ],
      "metadata": {
        "id": "d2c9kWyDKD1s"
      },
      "execution_count": null,
      "outputs": []
    }
  ]
}