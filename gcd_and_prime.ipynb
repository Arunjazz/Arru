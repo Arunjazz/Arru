{
  "nbformat": 4,
  "nbformat_minor": 0,
  "metadata": {
    "colab": {
      "name": "gcd and prime",
      "provenance": [],
      "authorship_tag": "ABX9TyNmZ97+fyVtoyRu+o4ZdEJi",
      "include_colab_link": true
    },
    "kernelspec": {
      "name": "python3",
      "display_name": "Python 3"
    },
    "language_info": {
      "name": "python"
    }
  },
  "cells": [
    {
      "cell_type": "markdown",
      "metadata": {
        "id": "view-in-github",
        "colab_type": "text"
      },
      "source": [
        "<a href=\"https://colab.research.google.com/github/Arunjazz/Arru/blob/main/gcd_and_prime.ipynb\" target=\"_parent\"><img src=\"https://colab.research.google.com/assets/colab-badge.svg\" alt=\"Open In Colab\"/></a>"
      ]
    },
    {
      "cell_type": "code",
      "execution_count": 6,
      "metadata": {
        "id": "pUi4_UznwIrI"
      },
      "outputs": [],
      "source": [
        "def factorial(m,n):\n",
        "  lst = []\n",
        "  for i in range(1,min(m,n)+1):\n",
        "    if m%i==0 and n%i==0:\n",
        "      lst.append(i)\n",
        "\n",
        "  return lst"
      ]
    },
    {
      "cell_type": "code",
      "source": [
        "def prime(n):\n",
        "  return (factorial == [1,n])"
      ],
      "metadata": {
        "id": "KVhRSPVIwgv8"
      },
      "execution_count": 2,
      "outputs": []
    },
    {
      "cell_type": "code",
      "source": [
        "print(prime(100))"
      ],
      "metadata": {
        "colab": {
          "base_uri": "https://localhost:8080/"
        },
        "id": "FsZ70NR8wuMG",
        "outputId": "3738458b-7751-433d-d5d4-2f7b7640a5e2"
      },
      "execution_count": 3,
      "outputs": [
        {
          "output_type": "stream",
          "name": "stdout",
          "text": [
            "False\n"
          ]
        }
      ]
    },
    {
      "cell_type": "code",
      "source": [
        "print(factorial(8,16))"
      ],
      "metadata": {
        "colab": {
          "base_uri": "https://localhost:8080/"
        },
        "id": "yiPYfLNIwxye",
        "outputId": "f988aabe-d162-442d-8fb4-8da853326801"
      },
      "execution_count": 7,
      "outputs": [
        {
          "output_type": "stream",
          "name": "stdout",
          "text": [
            "[1, 2, 4, 8]\n"
          ]
        }
      ]
    },
    {
      "cell_type": "code",
      "source": [
        ""
      ],
      "metadata": {
        "id": "gT8_J4wbw-od"
      },
      "execution_count": null,
      "outputs": []
    }
  ]
}