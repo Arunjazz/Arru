{
  "nbformat": 4,
  "nbformat_minor": 0,
  "metadata": {
    "colab": {
      "name": "gcd and prime",
      "provenance": [],
      "collapsed_sections": [],
      "authorship_tag": "ABX9TyMUB7BzypjoDueVg7LqUu1A",
      "include_colab_link": true
    },
    "kernelspec": {
      "name": "python3",
      "display_name": "Python 3"
    },
    "language_info": {
      "name": "python"
    }
  },
  "cells": [
    {
      "cell_type": "markdown",
      "metadata": {
        "id": "view-in-github",
        "colab_type": "text"
      },
      "source": [
        "<a href=\"https://colab.research.google.com/github/Arunjazz/Arru/blob/main/gcd_and_prime.ipynb\" target=\"_parent\"><img src=\"https://colab.research.google.com/assets/colab-badge.svg\" alt=\"Open In Colab\"/></a>"
      ]
    },
    {
      "cell_type": "code",
      "execution_count": 6,
      "metadata": {
        "id": "pUi4_UznwIrI"
      },
      "outputs": [],
      "source": [
        "def factorial(m,n):\n",
        "  lst = []\n",
        "  for i in range(1,min(m,n)+1):\n",
        "    if m%i==0 and n%i==0:\n",
        "      lst.append(i)\n",
        "\n",
        "  return lst"
      ]
    },
    {
      "cell_type": "code",
      "source": [
        "def prime(n):\n",
        "  return (factorial == [1,n])"
      ],
      "metadata": {
        "id": "KVhRSPVIwgv8"
      },
      "execution_count": 2,
      "outputs": []
    },
    {
      "cell_type": "code",
      "source": [
        "print(prime(100))"
      ],
      "metadata": {
        "colab": {
          "base_uri": "https://localhost:8080/"
        },
        "id": "FsZ70NR8wuMG",
        "outputId": "3738458b-7751-433d-d5d4-2f7b7640a5e2"
      },
      "execution_count": 3,
      "outputs": [
        {
          "output_type": "stream",
          "name": "stdout",
          "text": [
            "False\n"
          ]
        }
      ]
    },
    {
      "cell_type": "code",
      "source": [
        "print(factorial(35,49))"
      ],
      "metadata": {
        "colab": {
          "base_uri": "https://localhost:8080/"
        },
        "id": "V-SsV9sI1ou3",
        "outputId": "c255418f-96fd-48f7-9ce5-8260265f8da1"
      },
      "execution_count": 8,
      "outputs": [
        {
          "output_type": "stream",
          "name": "stdout",
          "text": [
            "[1, 7]\n"
          ]
        }
      ]
    },
    {
      "cell_type": "markdown",
      "source": [
        "## Here we are checking that whether the given no. is prime or not "
      ],
      "metadata": {
        "id": "-M93YIBV1zVY"
      }
    },
    {
      "cell_type": "code",
      "source": [
        "import math\n",
        "def prime(n):\n",
        "  is_prime = True\n",
        "  for i in range(2,int(math.sqrt(n))):\n",
        "    if n %i ==0:\n",
        "      is_prime = False\n",
        "      break\n",
        "  return is_prime"
      ],
      "metadata": {
        "id": "gT8_J4wbw-od"
      },
      "execution_count": 13,
      "outputs": []
    },
    {
      "cell_type": "code",
      "source": [
        "prime(11)"
      ],
      "metadata": {
        "colab": {
          "base_uri": "https://localhost:8080/"
        },
        "id": "_v0Ec4Rw2JCe",
        "outputId": "4a87a4ac-e8e0-4bff-9b36-733e3be6f239"
      },
      "execution_count": 14,
      "outputs": [
        {
          "output_type": "execute_result",
          "data": {
            "text/plain": [
              "True"
            ]
          },
          "metadata": {},
          "execution_count": 14
        }
      ]
    },
    {
      "cell_type": "code",
      "source": [
        "def pri_me(n):\n",
        "  resutl,i = True,2\n",
        "  while i<n:\n",
        "    if n%i==0:\n",
        "      result = False\n",
        "    i+=1\n",
        "  return result"
      ],
      "metadata": {
        "id": "sEjRXhmE2qsR"
      },
      "execution_count": 15,
      "outputs": []
    },
    {
      "cell_type": "code",
      "source": [
        "prime(13)"
      ],
      "metadata": {
        "colab": {
          "base_uri": "https://localhost:8080/"
        },
        "id": "oKQ4r8IL3gHY",
        "outputId": "61fa9636-d2f7-4d59-f204-0d48205171d7"
      },
      "execution_count": 17,
      "outputs": [
        {
          "output_type": "execute_result",
          "data": {
            "text/plain": [
              "True"
            ]
          },
          "metadata": {},
          "execution_count": 17
        }
      ]
    },
    {
      "cell_type": "markdown",
      "source": [
        " or we can write above code as like this to make it more efficient "
      ],
      "metadata": {
        "id": "7jb6lnGp3ox5"
      }
    },
    {
      "cell_type": "code",
      "source": [
        "import math\n",
        "def pri_me(n):\n",
        "  resutl,i = True,2\n",
        "  while i<math.sqrt(n):\n",
        "    if n%i==0:\n",
        "      result = False\n",
        "    i+=1\n",
        "  return result"
      ],
      "metadata": {
        "id": "t8IkBrur3hXf"
      },
      "execution_count": 18,
      "outputs": []
    },
    {
      "cell_type": "code",
      "source": [
        "prime(47)"
      ],
      "metadata": {
        "colab": {
          "base_uri": "https://localhost:8080/"
        },
        "id": "_KeVkX9j353f",
        "outputId": "82f0ac78-709a-4d33-803c-52555daf7cb8"
      },
      "execution_count": 19,
      "outputs": [
        {
          "output_type": "execute_result",
          "data": {
            "text/plain": [
              "True"
            ]
          },
          "metadata": {},
          "execution_count": 19
        }
      ]
    },
    {
      "cell_type": "markdown",
      "source": [
        "\n",
        "Here we are checking that the difference between the prime number is 2 is follow upto which level"
      ],
      "metadata": {
        "id": "Z7K__9jJ4I-i"
      }
    },
    {
      "cell_type": "code",
      "source": [
        "def  primeDiff(n):\n",
        "  lastprime=2\n",
        "  pd = {}\n",
        "  for i in range(3,n+1):\n",
        "    if prime(i):\n",
        "      d = i - lastprime\n",
        "      lastprime=i\n",
        "    if d in pd.keys():\n",
        "      pd[d] = pd[d] + 1  # just remember that we fetch or check value in dictionary with the help of keys\n",
        "    else : \n",
        "      pd[d] = 1\n",
        "  return pd\n"
      ],
      "metadata": {
        "id": "L_bblTcu37WQ"
      },
      "execution_count": 24,
      "outputs": []
    },
    {
      "cell_type": "code",
      "source": [
        "primeDiff(100)"
      ],
      "metadata": {
        "colab": {
          "base_uri": "https://localhost:8080/"
        },
        "id": "iwygFFVJ4FT9",
        "outputId": "4e24d185-fd6e-4c52-df61-25a0f7a30b95"
      },
      "execution_count": 26,
      "outputs": [
        {
          "output_type": "execute_result",
          "data": {
            "text/plain": [
              "{1: 8, 2: 44, 4: 24, 6: 18, 8: 4}"
            ]
          },
          "metadata": {},
          "execution_count": 26
        }
      ]
    },
    {
      "cell_type": "code",
      "source": [
        ""
      ],
      "metadata": {
        "id": "xg_Z9YUh55JI"
      },
      "execution_count": null,
      "outputs": []
    }
  ]
}